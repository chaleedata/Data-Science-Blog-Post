{
 "cells": [
  {
   "cell_type": "markdown",
   "metadata": {},
   "source": [
    "# Introduction"
   ]
  },
  {
   "cell_type": "markdown",
   "metadata": {},
   "source": [
    "Every year, Stack Overflow conducts a massive survey of people on the site, covering all sorts of information like programming languages, salary, code style and various other information. This year, they amassed more than 64,000 responses fielded from 213 countries.\n",
    "\n",
    "**Data** survey_results_public.csv- CSV file with main survey results, one respondent per row and one column per answer \n",
    "\n",
    "In this project, I will follow the CRISP-DM process (Cross Industry Process for Data Mining). CRISP-DM stands for:\n",
    "- Business understanding\n",
    "- Data understanding\n",
    "- Data preparation\n",
    "- Modeling\n",
    "- Evaluation\n",
    "- Deployment"
   ]
  },
  {
   "cell_type": "markdown",
   "metadata": {},
   "source": [
    "# Business understanding¶"
   ]
  },
  {
   "cell_type": "markdown",
   "metadata": {},
   "source": [
    "# In this project , I will focus to find out:\n",
    "- Most countries think about Education is Important ?\n",
    "- Which most famous language in professional developer?\n",
    "- Python vs R language \n",
    "- How many different average salary if you write r and python  "
   ]
  },
  {
   "cell_type": "code",
   "execution_count": 1,
   "metadata": {},
   "outputs": [],
   "source": [
    "import pandas as pd\n",
    "import seaborn as sns\n",
    "import matplotlib.pyplot as plt"
   ]
  },
  {
   "cell_type": "code",
   "execution_count": 2,
   "metadata": {},
   "outputs": [
    {
     "data": {
      "text/html": [
       "<div>\n",
       "<style scoped>\n",
       "    .dataframe tbody tr th:only-of-type {\n",
       "        vertical-align: middle;\n",
       "    }\n",
       "\n",
       "    .dataframe tbody tr th {\n",
       "        vertical-align: top;\n",
       "    }\n",
       "\n",
       "    .dataframe thead th {\n",
       "        text-align: right;\n",
       "    }\n",
       "</style>\n",
       "<table border=\"1\" class=\"dataframe\">\n",
       "  <thead>\n",
       "    <tr style=\"text-align: right;\">\n",
       "      <th></th>\n",
       "      <th>Respondent</th>\n",
       "      <th>Professional</th>\n",
       "      <th>ProgramHobby</th>\n",
       "      <th>Country</th>\n",
       "      <th>University</th>\n",
       "      <th>EmploymentStatus</th>\n",
       "      <th>FormalEducation</th>\n",
       "      <th>MajorUndergrad</th>\n",
       "      <th>HomeRemote</th>\n",
       "      <th>CompanySize</th>\n",
       "      <th>...</th>\n",
       "      <th>StackOverflowMakeMoney</th>\n",
       "      <th>Gender</th>\n",
       "      <th>HighestEducationParents</th>\n",
       "      <th>Race</th>\n",
       "      <th>SurveyLong</th>\n",
       "      <th>QuestionsInteresting</th>\n",
       "      <th>QuestionsConfusing</th>\n",
       "      <th>InterestedAnswers</th>\n",
       "      <th>Salary</th>\n",
       "      <th>ExpectedSalary</th>\n",
       "    </tr>\n",
       "  </thead>\n",
       "  <tbody>\n",
       "    <tr>\n",
       "      <th>0</th>\n",
       "      <td>1</td>\n",
       "      <td>Student</td>\n",
       "      <td>Yes, both</td>\n",
       "      <td>United States</td>\n",
       "      <td>No</td>\n",
       "      <td>Not employed, and not looking for work</td>\n",
       "      <td>Secondary school</td>\n",
       "      <td>NaN</td>\n",
       "      <td>NaN</td>\n",
       "      <td>NaN</td>\n",
       "      <td>...</td>\n",
       "      <td>Strongly disagree</td>\n",
       "      <td>Male</td>\n",
       "      <td>High school</td>\n",
       "      <td>White or of European descent</td>\n",
       "      <td>Strongly disagree</td>\n",
       "      <td>Strongly agree</td>\n",
       "      <td>Disagree</td>\n",
       "      <td>Strongly agree</td>\n",
       "      <td>NaN</td>\n",
       "      <td>NaN</td>\n",
       "    </tr>\n",
       "    <tr>\n",
       "      <th>1</th>\n",
       "      <td>2</td>\n",
       "      <td>Student</td>\n",
       "      <td>Yes, both</td>\n",
       "      <td>United Kingdom</td>\n",
       "      <td>Yes, full-time</td>\n",
       "      <td>Employed part-time</td>\n",
       "      <td>Some college/university study without earning ...</td>\n",
       "      <td>Computer science or software engineering</td>\n",
       "      <td>More than half, but not all, the time</td>\n",
       "      <td>20 to 99 employees</td>\n",
       "      <td>...</td>\n",
       "      <td>Strongly disagree</td>\n",
       "      <td>Male</td>\n",
       "      <td>A master's degree</td>\n",
       "      <td>White or of European descent</td>\n",
       "      <td>Somewhat agree</td>\n",
       "      <td>Somewhat agree</td>\n",
       "      <td>Disagree</td>\n",
       "      <td>Strongly agree</td>\n",
       "      <td>NaN</td>\n",
       "      <td>37500.0</td>\n",
       "    </tr>\n",
       "    <tr>\n",
       "      <th>2</th>\n",
       "      <td>3</td>\n",
       "      <td>Professional developer</td>\n",
       "      <td>Yes, both</td>\n",
       "      <td>United Kingdom</td>\n",
       "      <td>No</td>\n",
       "      <td>Employed full-time</td>\n",
       "      <td>Bachelor's degree</td>\n",
       "      <td>Computer science or software engineering</td>\n",
       "      <td>Less than half the time, but at least one day ...</td>\n",
       "      <td>10,000 or more employees</td>\n",
       "      <td>...</td>\n",
       "      <td>Disagree</td>\n",
       "      <td>Male</td>\n",
       "      <td>A professional degree</td>\n",
       "      <td>White or of European descent</td>\n",
       "      <td>Somewhat agree</td>\n",
       "      <td>Agree</td>\n",
       "      <td>Disagree</td>\n",
       "      <td>Agree</td>\n",
       "      <td>113750.0</td>\n",
       "      <td>NaN</td>\n",
       "    </tr>\n",
       "    <tr>\n",
       "      <th>3</th>\n",
       "      <td>4</td>\n",
       "      <td>Professional non-developer who sometimes write...</td>\n",
       "      <td>Yes, both</td>\n",
       "      <td>United States</td>\n",
       "      <td>No</td>\n",
       "      <td>Employed full-time</td>\n",
       "      <td>Doctoral degree</td>\n",
       "      <td>A non-computer-focused engineering discipline</td>\n",
       "      <td>Less than half the time, but at least one day ...</td>\n",
       "      <td>10,000 or more employees</td>\n",
       "      <td>...</td>\n",
       "      <td>Disagree</td>\n",
       "      <td>Male</td>\n",
       "      <td>A doctoral degree</td>\n",
       "      <td>White or of European descent</td>\n",
       "      <td>Agree</td>\n",
       "      <td>Agree</td>\n",
       "      <td>Somewhat agree</td>\n",
       "      <td>Strongly agree</td>\n",
       "      <td>NaN</td>\n",
       "      <td>NaN</td>\n",
       "    </tr>\n",
       "    <tr>\n",
       "      <th>4</th>\n",
       "      <td>5</td>\n",
       "      <td>Professional developer</td>\n",
       "      <td>Yes, I program as a hobby</td>\n",
       "      <td>Switzerland</td>\n",
       "      <td>No</td>\n",
       "      <td>Employed full-time</td>\n",
       "      <td>Master's degree</td>\n",
       "      <td>Computer science or software engineering</td>\n",
       "      <td>Never</td>\n",
       "      <td>10 to 19 employees</td>\n",
       "      <td>...</td>\n",
       "      <td>NaN</td>\n",
       "      <td>NaN</td>\n",
       "      <td>NaN</td>\n",
       "      <td>NaN</td>\n",
       "      <td>NaN</td>\n",
       "      <td>NaN</td>\n",
       "      <td>NaN</td>\n",
       "      <td>NaN</td>\n",
       "      <td>NaN</td>\n",
       "      <td>NaN</td>\n",
       "    </tr>\n",
       "  </tbody>\n",
       "</table>\n",
       "<p>5 rows × 154 columns</p>\n",
       "</div>"
      ],
      "text/plain": [
       "   Respondent                                       Professional  \\\n",
       "0           1                                            Student   \n",
       "1           2                                            Student   \n",
       "2           3                             Professional developer   \n",
       "3           4  Professional non-developer who sometimes write...   \n",
       "4           5                             Professional developer   \n",
       "\n",
       "                ProgramHobby         Country      University  \\\n",
       "0                  Yes, both   United States              No   \n",
       "1                  Yes, both  United Kingdom  Yes, full-time   \n",
       "2                  Yes, both  United Kingdom              No   \n",
       "3                  Yes, both   United States              No   \n",
       "4  Yes, I program as a hobby     Switzerland              No   \n",
       "\n",
       "                         EmploymentStatus  \\\n",
       "0  Not employed, and not looking for work   \n",
       "1                      Employed part-time   \n",
       "2                      Employed full-time   \n",
       "3                      Employed full-time   \n",
       "4                      Employed full-time   \n",
       "\n",
       "                                     FormalEducation  \\\n",
       "0                                   Secondary school   \n",
       "1  Some college/university study without earning ...   \n",
       "2                                  Bachelor's degree   \n",
       "3                                    Doctoral degree   \n",
       "4                                    Master's degree   \n",
       "\n",
       "                                  MajorUndergrad  \\\n",
       "0                                            NaN   \n",
       "1       Computer science or software engineering   \n",
       "2       Computer science or software engineering   \n",
       "3  A non-computer-focused engineering discipline   \n",
       "4       Computer science or software engineering   \n",
       "\n",
       "                                          HomeRemote  \\\n",
       "0                                                NaN   \n",
       "1              More than half, but not all, the time   \n",
       "2  Less than half the time, but at least one day ...   \n",
       "3  Less than half the time, but at least one day ...   \n",
       "4                                              Never   \n",
       "\n",
       "                CompanySize  ... StackOverflowMakeMoney Gender  \\\n",
       "0                       NaN  ...      Strongly disagree   Male   \n",
       "1        20 to 99 employees  ...      Strongly disagree   Male   \n",
       "2  10,000 or more employees  ...               Disagree   Male   \n",
       "3  10,000 or more employees  ...               Disagree   Male   \n",
       "4        10 to 19 employees  ...                    NaN    NaN   \n",
       "\n",
       "  HighestEducationParents                          Race         SurveyLong  \\\n",
       "0             High school  White or of European descent  Strongly disagree   \n",
       "1       A master's degree  White or of European descent     Somewhat agree   \n",
       "2   A professional degree  White or of European descent     Somewhat agree   \n",
       "3       A doctoral degree  White or of European descent              Agree   \n",
       "4                     NaN                           NaN                NaN   \n",
       "\n",
       "  QuestionsInteresting QuestionsConfusing InterestedAnswers    Salary  \\\n",
       "0       Strongly agree           Disagree    Strongly agree       NaN   \n",
       "1       Somewhat agree           Disagree    Strongly agree       NaN   \n",
       "2                Agree           Disagree             Agree  113750.0   \n",
       "3                Agree     Somewhat agree    Strongly agree       NaN   \n",
       "4                  NaN                NaN               NaN       NaN   \n",
       "\n",
       "   ExpectedSalary  \n",
       "0             NaN  \n",
       "1         37500.0  \n",
       "2             NaN  \n",
       "3             NaN  \n",
       "4             NaN  \n",
       "\n",
       "[5 rows x 154 columns]"
      ]
     },
     "execution_count": 2,
     "metadata": {},
     "output_type": "execute_result"
    }
   ],
   "source": [
    "df = pd.read_csv('survey_results_public.csv') \n",
    "df.head()"
   ]
  },
  {
   "cell_type": "markdown",
   "metadata": {},
   "source": [
    "## Data understanding"
   ]
  },
  {
   "cell_type": "code",
   "execution_count": 3,
   "metadata": {},
   "outputs": [
    {
     "name": "stdout",
     "output_type": "stream",
     "text": [
      "<class 'pandas.core.frame.DataFrame'>\n",
      "RangeIndex: 51392 entries, 0 to 51391\n",
      "Data columns (total 154 columns):\n",
      " #   Column                            Dtype  \n",
      "---  ------                            -----  \n",
      " 0   Respondent                        int64  \n",
      " 1   Professional                      object \n",
      " 2   ProgramHobby                      object \n",
      " 3   Country                           object \n",
      " 4   University                        object \n",
      " 5   EmploymentStatus                  object \n",
      " 6   FormalEducation                   object \n",
      " 7   MajorUndergrad                    object \n",
      " 8   HomeRemote                        object \n",
      " 9   CompanySize                       object \n",
      " 10  CompanyType                       object \n",
      " 11  YearsProgram                      object \n",
      " 12  YearsCodedJob                     object \n",
      " 13  YearsCodedJobPast                 object \n",
      " 14  DeveloperType                     object \n",
      " 15  WebDeveloperType                  object \n",
      " 16  MobileDeveloperType               object \n",
      " 17  NonDeveloperType                  object \n",
      " 18  CareerSatisfaction                float64\n",
      " 19  JobSatisfaction                   float64\n",
      " 20  ExCoderReturn                     object \n",
      " 21  ExCoderNotForMe                   object \n",
      " 22  ExCoderBalance                    object \n",
      " 23  ExCoder10Years                    object \n",
      " 24  ExCoderBelonged                   object \n",
      " 25  ExCoderSkills                     object \n",
      " 26  ExCoderWillNotCode                object \n",
      " 27  ExCoderActive                     object \n",
      " 28  PronounceGIF                      object \n",
      " 29  ProblemSolving                    object \n",
      " 30  BuildingThings                    object \n",
      " 31  LearningNewTech                   object \n",
      " 32  BoringDetails                     object \n",
      " 33  JobSecurity                       object \n",
      " 34  DiversityImportant                object \n",
      " 35  AnnoyingUI                        object \n",
      " 36  FriendsDevelopers                 object \n",
      " 37  RightWrongWay                     object \n",
      " 38  UnderstandComputers               object \n",
      " 39  SeriousWork                       object \n",
      " 40  InvestTimeTools                   object \n",
      " 41  WorkPayCare                       object \n",
      " 42  KinshipDevelopers                 object \n",
      " 43  ChallengeMyself                   object \n",
      " 44  CompetePeers                      object \n",
      " 45  ChangeWorld                       object \n",
      " 46  JobSeekingStatus                  object \n",
      " 47  HoursPerWeek                      float64\n",
      " 48  LastNewJob                        object \n",
      " 49  AssessJobIndustry                 object \n",
      " 50  AssessJobRole                     object \n",
      " 51  AssessJobExp                      object \n",
      " 52  AssessJobDept                     object \n",
      " 53  AssessJobTech                     object \n",
      " 54  AssessJobProjects                 object \n",
      " 55  AssessJobCompensation             object \n",
      " 56  AssessJobOffice                   object \n",
      " 57  AssessJobCommute                  object \n",
      " 58  AssessJobRemote                   object \n",
      " 59  AssessJobLeaders                  object \n",
      " 60  AssessJobProfDevel                object \n",
      " 61  AssessJobDiversity                object \n",
      " 62  AssessJobProduct                  object \n",
      " 63  AssessJobFinances                 object \n",
      " 64  ImportantBenefits                 object \n",
      " 65  ClickyKeys                        object \n",
      " 66  JobProfile                        object \n",
      " 67  ResumePrompted                    object \n",
      " 68  LearnedHiring                     object \n",
      " 69  ImportantHiringAlgorithms         object \n",
      " 70  ImportantHiringTechExp            object \n",
      " 71  ImportantHiringCommunication      object \n",
      " 72  ImportantHiringOpenSource         object \n",
      " 73  ImportantHiringPMExp              object \n",
      " 74  ImportantHiringCompanies          object \n",
      " 75  ImportantHiringTitles             object \n",
      " 76  ImportantHiringEducation          object \n",
      " 77  ImportantHiringRep                object \n",
      " 78  ImportantHiringGettingThingsDone  object \n",
      " 79  Currency                          object \n",
      " 80  Overpaid                          object \n",
      " 81  TabsSpaces                        object \n",
      " 82  EducationImportant                object \n",
      " 83  EducationTypes                    object \n",
      " 84  SelfTaughtTypes                   object \n",
      " 85  TimeAfterBootcamp                 object \n",
      " 86  CousinEducation                   object \n",
      " 87  WorkStart                         object \n",
      " 88  HaveWorkedLanguage                object \n",
      " 89  WantWorkLanguage                  object \n",
      " 90  HaveWorkedFramework               object \n",
      " 91  WantWorkFramework                 object \n",
      " 92  HaveWorkedDatabase                object \n",
      " 93  WantWorkDatabase                  object \n",
      " 94  HaveWorkedPlatform                object \n",
      " 95  WantWorkPlatform                  object \n",
      " 96  IDE                               object \n",
      " 97  AuditoryEnvironment               object \n",
      " 98  Methodology                       object \n",
      " 99  VersionControl                    object \n",
      " 100 CheckInCode                       object \n",
      " 101 ShipIt                            object \n",
      " 102 OtherPeoplesCode                  object \n",
      " 103 ProjectManagement                 object \n",
      " 104 EnjoyDebugging                    object \n",
      " 105 InTheZone                         object \n",
      " 106 DifficultCommunication            object \n",
      " 107 CollaborateRemote                 object \n",
      " 108 MetricAssess                      object \n",
      " 109 EquipmentSatisfiedMonitors        object \n",
      " 110 EquipmentSatisfiedCPU             object \n",
      " 111 EquipmentSatisfiedRAM             object \n",
      " 112 EquipmentSatisfiedStorage         object \n",
      " 113 EquipmentSatisfiedRW              object \n",
      " 114 InfluenceInternet                 object \n",
      " 115 InfluenceWorkstation              object \n",
      " 116 InfluenceHardware                 object \n",
      " 117 InfluenceServers                  object \n",
      " 118 InfluenceTechStack                object \n",
      " 119 InfluenceDeptTech                 object \n",
      " 120 InfluenceVizTools                 object \n",
      " 121 InfluenceDatabase                 object \n",
      " 122 InfluenceCloud                    object \n",
      " 123 InfluenceConsultants              object \n",
      " 124 InfluenceRecruitment              object \n",
      " 125 InfluenceCommunication            object \n",
      " 126 StackOverflowDescribes            object \n",
      " 127 StackOverflowSatisfaction         float64\n",
      " 128 StackOverflowDevices              object \n",
      " 129 StackOverflowFoundAnswer          object \n",
      " 130 StackOverflowCopiedCode           object \n",
      " 131 StackOverflowJobListing           object \n",
      " 132 StackOverflowCompanyPage          object \n",
      " 133 StackOverflowJobSearch            object \n",
      " 134 StackOverflowNewQuestion          object \n",
      " 135 StackOverflowAnswer               object \n",
      " 136 StackOverflowMetaChat             object \n",
      " 137 StackOverflowAdsRelevant          object \n",
      " 138 StackOverflowAdsDistracting       object \n",
      " 139 StackOverflowModeration           object \n",
      " 140 StackOverflowCommunity            object \n",
      " 141 StackOverflowHelpful              object \n",
      " 142 StackOverflowBetter               object \n",
      " 143 StackOverflowWhatDo               object \n",
      " 144 StackOverflowMakeMoney            object \n",
      " 145 Gender                            object \n",
      " 146 HighestEducationParents           object \n",
      " 147 Race                              object \n",
      " 148 SurveyLong                        object \n",
      " 149 QuestionsInteresting              object \n",
      " 150 QuestionsConfusing                object \n",
      " 151 InterestedAnswers                 object \n",
      " 152 Salary                            float64\n",
      " 153 ExpectedSalary                    float64\n",
      "dtypes: float64(6), int64(1), object(147)\n",
      "memory usage: 31.6+ MB\n"
     ]
    }
   ],
   "source": [
    "df.info(1)"
   ]
  },
  {
   "cell_type": "markdown",
   "metadata": {},
   "source": [
    "# Data preparation"
   ]
  },
  {
   "cell_type": "code",
   "execution_count": 4,
   "metadata": {},
   "outputs": [],
   "source": [
    "#create new column r user  and python user \n",
    "df['r_user'] = df['HaveWorkedLanguage'].apply(lambda x: 'R' in str(x).split('; '))\n",
    "df['python_user'] = df['HaveWorkedLanguage'].apply(lambda x: 'Python' in str(x).split('; '))"
   ]
  },
  {
   "cell_type": "code",
   "execution_count": 5,
   "metadata": {},
   "outputs": [
    {
     "data": {
      "text/plain": [
       "Respondent               0\n",
       "Professional             0\n",
       "ProgramHobby             0\n",
       "Country                  0\n",
       "University               0\n",
       "                     ...  \n",
       "InterestedAnswers    16780\n",
       "Salary               38501\n",
       "ExpectedSalary       48826\n",
       "r_user                   0\n",
       "python_user              0\n",
       "Length: 156, dtype: int64"
      ]
     },
     "execution_count": 5,
     "metadata": {},
     "output_type": "execute_result"
    }
   ],
   "source": [
    "df.isnull().sum()   #check column to use is missing data "
   ]
  },
  {
   "cell_type": "code",
   "execution_count": 6,
   "metadata": {},
   "outputs": [],
   "source": [
    "#drop null value in column to use \n",
    "df_new = df[['Country','ProblemSolving','BuildingThings','LearningNewTech','InvestTimeTools','EducationImportant','HaveWorkedLanguage','r_user','python_user',\"Salary\"]].dropna()"
   ]
  },
  {
   "cell_type": "markdown",
   "metadata": {},
   "source": [
    "# Analyze, Model, and Visualize\n",
    "- Provide a clear connection between your business questions and how the data answers them."
   ]
  },
  {
   "cell_type": "markdown",
   "metadata": {},
   "source": [
    "### Question 1:\n",
    "Which countries most survey result?"
   ]
  },
  {
   "cell_type": "code",
   "execution_count": 7,
   "metadata": {},
   "outputs": [
    {
     "data": {
      "text/plain": [
       "<matplotlib.axes._subplots.AxesSubplot at 0xa070d50>"
      ]
     },
     "execution_count": 7,
     "metadata": {},
     "output_type": "execute_result"
    },
    {
     "data": {
      "image/png": "[encoded data removed]",
      "text/plain": [
       "<Figure size 864x720 with 1 Axes>"
      ]
     },
     "metadata": {
      "needs_background": "light"
     },
     "output_type": "display_data"
    }
   ],
   "source": [
    "df_new['Country'].value_counts()[0:10].plot(kind='bar',figsize=(12,10))"
   ]
  },
  {
   "cell_type": "markdown",
   "metadata": {},
   "source": [
    "The USA the largest result survey because united states have more career realated technology industry and statsup.Second is United Kingdom and Third is Germany.   "
   ]
  },
  {
   "cell_type": "markdown",
   "metadata": {},
   "source": [
    "### Question 2:\n",
    "Most countries think about Education is Important ?"
   ]
  },
  {
   "cell_type": "code",
   "execution_count": 8,
   "metadata": {},
   "outputs": [
    {
     "data": {
      "text/plain": [
       "(array([12.,  0., 66.,  0.,  0., 21.,  0.,  2.,  0.,  8.]),\n",
       " array([0. , 0.4, 0.8, 1.2, 1.6, 2. , 2.4, 2.8, 3.2, 3.6, 4. ]),\n",
       " <a list of 10 Patch objects>)"
      ]
     },
     "execution_count": 8,
     "metadata": {},
     "output_type": "execute_result"
    },
    {
     "data": {
      "image/png": "[encoded data removed]",
      "text/plain": [
       "<Figure size 576x576 with 1 Axes>"
      ]
     },
     "metadata": {
      "needs_background": "light"
     },
     "output_type": "display_data"
    }
   ],
   "source": [
    "# Group by category\n",
    "\n",
    "countries = df_new.groupby(\"Country\")\n",
    "\n",
    "\n",
    "max_cou = countries['EducationImportant'].max()\n",
    "\n",
    "plt.figure(figsize=(8,8))\n",
    "plt.hist(max_cou)"
   ]
  },
  {
   "cell_type": "markdown",
   "metadata": {},
   "source": [
    "Most countries think about Education is very important. It true If you be a professional programmer, coding is important and some education such as time management, business or marketing which is the basic subject must learn. "
   ]
  },
  {
   "cell_type": "markdown",
   "metadata": {},
   "source": [
    "### Question 3:\n",
    "Python vs R language"
   ]
  },
  {
   "cell_type": "code",
   "execution_count": 9,
   "metadata": {},
   "outputs": [
    {
     "data": {
      "text/plain": [
       "<matplotlib.axes._subplots.AxesSubplot at 0xaa08030>"
      ]
     },
     "execution_count": 9,
     "metadata": {},
     "output_type": "execute_result"
    },
    {
     "data": {
      "image/png": "[encoded data removed]",
      "text/plain": [
       "<Figure size 864x720 with 1 Axes>"
      ]
     },
     "metadata": {
      "needs_background": "light"
     },
     "output_type": "display_data"
    }
   ],
   "source": [
    "# ALL kinf Professional \n",
    "df['Professional'].value_counts().plot(kind='bar',figsize=(12,10))"
   ]
  },
  {
   "cell_type": "code",
   "execution_count": 10,
   "metadata": {},
   "outputs": [
    {
     "name": "stdout",
     "output_type": "stream",
     "text": [
      "\n"
     ]
    },
    {
     "data": {
      "image/png": "[encoded data removed]",
      "text/plain": [
       "<Figure size 432x288 with 1 Axes>"
      ]
     },
     "metadata": {
      "needs_background": "light"
     },
     "output_type": "display_data"
    }
   ],
   "source": [
    "fig, ax = plt.subplots()\n",
    "plt.xlabel('Language')\n",
    "plt.ylabel('User count')\n",
    "plt.title('Number of surveyed users')\n",
    "plt.bar([0, 1], [df_new['r_user'].sum(), df_new['python_user'].sum()])\n",
    "ax.set_xticks([0, 1])\n",
    "ax.set_xticklabels(('R', 'Python'))\n",
    "print()"
   ]
  },
  {
   "cell_type": "markdown",
   "metadata": {},
   "source": [
    "### Question 4:\n",
    "How many different average salary if you write r and python"
   ]
  },
  {
   "cell_type": "code",
   "execution_count": 11,
   "metadata": {},
   "outputs": [
    {
     "data": {
      "text/plain": [
       "<matplotlib.axes._subplots.AxesSubplot at 0xaa41450>"
      ]
     },
     "execution_count": 11,
     "metadata": {},
     "output_type": "execute_result"
    },
    {
     "data": {
      "image/png": "[encoded data removed]",
      "text/plain": [
       "<Figure size 864x576 with 1 Axes>"
      ]
     },
     "metadata": {
      "needs_background": "light"
     },
     "output_type": "display_data"
    }
   ],
   "source": [
    "def langs(row):\n",
    "    row = [int(i) for i in row.values]\n",
    "    if sum(row) == 2: return 'Both'\n",
    "    elif row[0] == 1: return 'R'\n",
    "    elif row[1] == 1: return 'Python'\n",
    "    else: return 'Neither'\n",
    "    \n",
    "order = ['Neither', 'Python', 'R', 'Both']    \n",
    "\n",
    "df_new['lang'] = df_new[['r_user', 'python_user']].apply(langs, axis=1)\n",
    "\n",
    "plt.figure(figsize=(12, 8))\n",
    "sns.boxplot(x=\"lang\", y=\"Salary\", data=df_new ,order=order)"
   ]
  },
  {
   "cell_type": "markdown",
   "metadata": {},
   "source": [
    "Average, R users make quite a bit more than Python users"
   ]
  },
  {
   "cell_type": "code",
   "execution_count": null,
   "metadata": {},
   "outputs": [],
   "source": []
  }
 ],
 "metadata": {
  "kernelspec": {
   "display_name": "Python 3",
   "language": "python",
   "name": "python3"
  },
  "language_info": {
   "codemirror_mode": {
    "name": "ipython",
    "version": 3
   },
   "file_extension": ".py",
   "mimetype": "text/x-python",
   "name": "python",
   "nbconvert_exporter": "python",
   "pygments_lexer": "ipython3",
   "version": "3.7.6"
  }
 },
 "nbformat": 4,
 "nbformat_minor": 4
}
